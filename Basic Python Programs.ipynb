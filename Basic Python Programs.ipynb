{
 "cells": [
  {
   "cell_type": "code",
   "execution_count": 28,
   "id": "599bd140",
   "metadata": {},
   "outputs": [
    {
     "name": "stdout",
     "output_type": "stream",
     "text": [
      "enter the radius:3\n",
      "Area of Circle is: 28.259999999999998\n"
     ]
    }
   ],
   "source": [
    "# Write a Python program which accepts the radius of a circle from the user and compute the area. \n",
    "\n",
    "radius=input(\"enter the radius:\")\n",
    "r=float(radius)\n",
    "area= 3.14*r*r\n",
    "print(\"Area of Circle is:\", area)\n"
   ]
  },
  {
   "cell_type": "code",
   "execution_count": 34,
   "id": "f3813e1a",
   "metadata": {},
   "outputs": [
    {
     "name": "stdout",
     "output_type": "stream",
     "text": [
      "Enter the name:Anisha\n",
      "Enter the roll number:21\n",
      "Enter the mark:78\n",
      "\n",
      "Name: Anisha \n",
      "Roll No: 21 \n",
      "Mark: 78\n"
     ]
    }
   ],
   "source": [
    "# Write a Python Program to accept the details of a student like name, roll number and mark and display it.\n",
    "# Sample input: Enter the name: Anisha\n",
    "#  Enter the roll number: 21\n",
    "#  Enter the mark: 78\n",
    "# Sample output: Name: Anisha\n",
    "#  Roll No: 21\n",
    "#  Mark: 78\n",
    "\n",
    "name=input(\"Enter the name:\")\n",
    "roll=input(\"Enter the roll number:\")\n",
    "mark=input(\"Enter the mark:\")\n",
    "print(\"\\nName:\", name, \"\\nRoll No:\", roll, \"\\nMark:\", mark)"
   ]
  },
  {
   "cell_type": "code",
   "execution_count": 2,
   "id": "bdec6f6a",
   "metadata": {},
   "outputs": [
    {
     "name": "stdout",
     "output_type": "stream",
     "text": [
      "Enter the number of elements: 4\n",
      "3\n",
      "5\n",
      "9\n",
      "4\n",
      "9 is the largest number\n"
     ]
    }
   ],
   "source": [
    "# Write a Python program to get the largest number from a list\n",
    "\n",
    "num = []\n",
    "n = int(input(\"Enter the number of elements: \"))\n",
    "\n",
    "\n",
    "for i in range(0, n):\n",
    "    ele = int(input())\n",
    "    num.append(ele) \n",
    "    \n",
    "\n",
    "print(max(num),\"is the largest number\")\n",
    "\n"
   ]
  },
  {
   "cell_type": "code",
   "execution_count": 67,
   "id": "ac7205a3",
   "metadata": {},
   "outputs": [
    {
     "name": "stdout",
     "output_type": "stream",
     "text": [
      "Enter any string: assembly\n",
      "{'a': 1, 's': 2, 'e': 1, 'm': 1, 'b': 1, 'l': 1, 'y': 1}\n"
     ]
    }
   ],
   "source": [
    "# Write a Python program to accept a string value from the user and display the count of each character in that string.\n",
    "\n",
    "userString = input(\"Enter any string: \")\n",
    "count ={}\n",
    "for i in userString:\n",
    "    if i in count:\n",
    "        count[i]+=1\n",
    "    else:\n",
    "        count[i]=1\n",
    "print(str(count))"
   ]
  },
  {
   "cell_type": "code",
   "execution_count": 68,
   "id": "dc4f8b24",
   "metadata": {},
   "outputs": [
    {
     "name": "stdout",
     "output_type": "stream",
     "text": [
      "(44, 55)\n"
     ]
    }
   ],
   "source": [
    "# Write a Python program to copy element 44 and 55 from the following tuple into a new tuple. tuple1 = (11, 22, 33, 44, 55, 66) \n",
    "\n",
    "tuple1=(11,22,33,44,55,66)\n",
    "tuple1Copy=tuple1[3:5]\n",
    "print(tuple1Copy)"
   ]
  },
  {
   "cell_type": "code",
   "execution_count": 20,
   "id": "7684fb97",
   "metadata": {},
   "outputs": [
    {
     "name": "stdout",
     "output_type": "stream",
     "text": [
      "enter the starting range: 1\n",
      "Current Number 1Previous Number 0 sum is 1\n",
      "Current Number 2Previous Number 1 sum is 3\n",
      "Current Number 3Previous Number 2 sum is 5\n",
      "Current Number 4Previous Number 3 sum is 7\n",
      "Current Number 5Previous Number 4 sum is 9\n",
      "Current Number 6Previous Number 5 sum is 11\n",
      "Current Number 7Previous Number 6 sum is 13\n",
      "Current Number 8Previous Number 7 sum is 15\n",
      "Current Number 9Previous Number 8 sum is 17\n",
      "Current Number 10Previous Number 9 sum is 19\n"
     ]
    }
   ],
   "source": [
    "# write a Python program to iterate from start number to the end number and print the sum of the current and previous number.\n",
    "\n",
    "n=int(input(\"enter the starting range: \"))\n",
    "previousNum = n-1\n",
    "for i in range(n,(n+10)):\n",
    "    sum = previousNum + i\n",
    "    print('Current Number '+ str(i)+'Previous Number ' + str(previousNum) + ' sum is ' + str(sum)) # <- This is the issue.\n",
    "    previousNum=i"
   ]
  },
  {
   "cell_type": "code",
   "execution_count": 44,
   "id": "0f0b21f5",
   "metadata": {},
   "outputs": [
    {
     "name": "stdout",
     "output_type": "stream",
     "text": [
      "Enter multiple values: 1 2 3 15 5 10 20 37\n",
      "[15, 5, 10, 20]\n"
     ]
    }
   ],
   "source": [
    "# Write a Python program to print only those numbers which are divisible of 5. \n",
    "\n",
    "x = list(map(int, input(\"Enter multiple values: \").split()))  \n",
    "y=[]\n",
    "for i in range(len(x)):\n",
    "    if ((x[i]) %5 == 0):\n",
    "        y.append(x[i])\n",
    "print(y)"
   ]
  },
  {
   "cell_type": "code",
   "execution_count": 2,
   "id": "c4a4e990",
   "metadata": {},
   "outputs": [
    {
     "name": "stdout",
     "output_type": "stream",
     "text": [
      "Enter the number: 15\n",
      "15 is not a prime number\n"
     ]
    }
   ],
   "source": [
    "# Write a Python program to check whether a number is prime or not. \n",
    "\n",
    "\n",
    "\n",
    "num = int(input(\"Enter the number: \"))\n",
    "flag=False\n",
    "\n",
    "if num > 1:\n",
    "    for i in range(2, int(num/2)):\n",
    "        if (num % i) == 0:\n",
    "            flag = True\n",
    "            break\n",
    "if flag:\n",
    "    print(num, \"is not a prime number\")\n",
    "else:\n",
    "    print(num, \"is a prime number\")"
   ]
  },
  {
   "cell_type": "code",
   "execution_count": 6,
   "id": "78260de8",
   "metadata": {},
   "outputs": [
    {
     "name": "stdout",
     "output_type": "stream",
     "text": [
      "Enter values: 1 2 3\n",
      "[3, 2, 1]\n"
     ]
    }
   ],
   "source": [
    "# Write a Python program to reverse a list using for loop. \n",
    "\n",
    "lists = list(map(int, input(\"Enter values: \").split())) \n",
    "\n",
    "# for i in range(len(lists)):\n",
    "#     last_item = lists.pop()\n",
    "#     lists.insert(i, last_item)\n",
    "# print(lists)\n",
    "lists.reverse()\n",
    "print(lists)\n"
   ]
  },
  {
   "cell_type": "code",
   "execution_count": 9,
   "id": "de556e4e",
   "metadata": {},
   "outputs": [
    {
     "name": "stdout",
     "output_type": "stream",
     "text": [
      "Enter number of rows: 5\n",
      "* \n",
      "\n",
      "* * \n",
      "\n",
      "* * * \n",
      "\n",
      "* * * * \n",
      "\n",
      "* * * * * \n",
      "\n"
     ]
    }
   ],
   "source": [
    "# Write a Python program to print the following pattern.\n",
    "#  *\n",
    "#  **\n",
    "#  ***\n",
    "#  **** \n",
    " \n",
    "\n",
    "rows = int(input(\"Enter number of rows: \"))\n",
    "\n",
    "for i in range(rows):\n",
    "    for j in range(i+1):\n",
    "        print(\"* \", end=\"\")\n",
    "    print(\"\\n\")"
   ]
  },
  {
   "cell_type": "code",
   "execution_count": 12,
   "id": "2b64a27d",
   "metadata": {},
   "outputs": [
    {
     "name": "stdout",
     "output_type": "stream",
     "text": [
      "Enter three values: 37 89 28\n",
      "Maximum of numbers:  89\n"
     ]
    }
   ],
   "source": [
    "# Write a Python function to find the maximum of three numbers \n",
    "\n",
    "def max_of_two( x, y ):\n",
    "    if x > y:\n",
    "        return x\n",
    "    return y\n",
    "def max_of_three( x, y, z ):\n",
    "    return max_of_two( x, max_of_two( y, z ) )\n",
    "a,b,c =input(\"Enter three values: \").split()  \n",
    "print(\"Maximum of numbers: \", max_of_three(a,b,c))\n"
   ]
  },
  {
   "cell_type": "code",
   "execution_count": 1,
   "id": "b4729d55",
   "metadata": {},
   "outputs": [
    {
     "name": "stdout",
     "output_type": "stream",
     "text": [
      "Enter base: 2\n",
      "Enter exponential value: 3\n",
      "Result: 8\n"
     ]
    }
   ],
   "source": [
    "# Write a Python function called exponent(base,exp) that returns an integer value of base raises to the power of exp. \n",
    "\n",
    "def power(base,exp):\n",
    "    if(exp==1):\n",
    "        return(base)\n",
    "    if(exp!=1):\n",
    "        return(base*power(base,exp-1))\n",
    "base=int(input(\"Enter base: \"))\n",
    "exp=int(input(\"Enter exponential value: \"))\n",
    "print(\"Result:\",power(base,exp))\n",
    "\n"
   ]
  },
  {
   "cell_type": "code",
   "execution_count": 24,
   "id": "7abc9774",
   "metadata": {},
   "outputs": [
    {
     "name": "stdout",
     "output_type": "stream",
     "text": [
      "enter a number: 4\n",
      "Sum of cubes smaller than the specified number:  36\n"
     ]
    }
   ],
   "source": [
    "# Write a Python function that takes a positive integer and returns the sum of the cube of all the positive integers \n",
    "# smaller than the specified number. \n",
    "\n",
    "def sum_of_cubes(n):\n",
    "    tot=0\n",
    "    if n>0:\n",
    "        for i in range(1, n):\n",
    "            tot +=i*i*i\n",
    "    else :\n",
    "        return(print(\" enter a positive number\"))\n",
    "   \n",
    "    return tot\n",
    "num=int(input(\"enter a number: \"))\n",
    "print(\"Sum of cubes smaller than the specified number: \", sum_of_cubes(num))"
   ]
  },
  {
   "cell_type": "code",
   "execution_count": 25,
   "id": "1e65571f",
   "metadata": {},
   "outputs": [
    {
     "name": "stdout",
     "output_type": "stream",
     "text": [
      "Enter the number of rows5\n",
      "\n",
      "* \n",
      "* * \n",
      "* * * \n",
      "* * * * \n",
      "* * * * * \n",
      "* * * * \n",
      "* * * \n",
      "* * \n",
      "* \n"
     ]
    }
   ],
   "source": [
    "# Write a Python program to construct the following pattern, using a nested for loop.\n",
    "# *\n",
    "# **\n",
    "# ***\n",
    "# ****\n",
    "# *****\n",
    "# ****\n",
    "# ***\n",
    "# **\n",
    "# *\n",
    "\n",
    "n=int(input(\"Enter the number of rows\"))\n",
    "for i in range(n):\n",
    "    for j in range(i):\n",
    "        print ('* ', end=\"\")\n",
    "    print('')\n",
    "\n",
    "for i in range(n,0,-1):\n",
    "    for j in range(i):\n",
    "        print('* ', end=\"\")\n",
    "    print('')\n",
    "\n"
   ]
  },
  {
   "cell_type": "code",
   "execution_count": 32,
   "id": "618df4a4",
   "metadata": {},
   "outputs": [
    {
     "name": "stdout",
     "output_type": "stream",
     "text": [
      "1\n",
      "Fizz\n",
      "3\n",
      "Fizz\n",
      "Buzz\n",
      "Fizz\n",
      "7\n",
      "Fizz\n",
      "9\n",
      "FizzBuzz\n"
     ]
    }
   ],
   "source": [
    "# Write a Python program which iterates from 1 to 10. For multiples of 2, print “Fizz” instead of the number and for the\n",
    "# multiples of 5, print “Buzz”. For numbers which are multiples of both 2 and 5, print “FizzBuzz”. \n",
    "\n",
    "\n",
    "for i in range(1,11):\n",
    "  \n",
    "  if(i%2==0 and i%5==0):\n",
    "    print(\"FizzBuzz\")\n",
    "  \n",
    "  elif(i%2 == 0):\n",
    "    print(\"Fizz\")\n",
    " \n",
    "  elif(i%5 == 0):\n",
    "    print(\"Buzz\")\n",
    " \n",
    "  else:\n",
    "    print(i)"
   ]
  },
  {
   "cell_type": "code",
   "execution_count": 35,
   "id": "9400d10d",
   "metadata": {},
   "outputs": [
    {
     "name": "stdout",
     "output_type": "stream",
     "text": [
      "Enter values: 1 2 2 2 2 2\n",
      "2\n"
     ]
    }
   ],
   "source": [
    "# Write a Python program to find the most frequent item in a list of numbers. \n",
    "\n",
    "def frequent(lists):\n",
    "    counts = 0\n",
    "    num = lists[0]\n",
    "    for i in lists:\n",
    "        items = lists.count(i)\n",
    "        if(items > counts):\n",
    "            counts = items\n",
    "            num = i\n",
    "\n",
    "    return num\n",
    "\n",
    "lists = list(map(int, input(\"Enter values: \").split())) \n",
    "print(frequent(lists))\n"
   ]
  },
  {
   "cell_type": "code",
   "execution_count": 36,
   "id": "864d0274",
   "metadata": {},
   "outputs": [
    {
     "name": "stdout",
     "output_type": "stream",
     "text": [
      "Enter values: 2 1 3 1\n",
      "The sum of squares of list is : 15\n"
     ]
    }
   ],
   "source": [
    "# Write a Python program to find the sum of squares of the numbers in a list.\n",
    "\n",
    "lists = list(map(int, input(\"Enter values: \").split())) \n",
    "\n",
    "res = sum(map(lambda i : i * i, lists))\n",
    "print (\"The sum of squares of list is : \" + str(res))\n",
    "  "
   ]
  },
  {
   "cell_type": "code",
   "execution_count": 37,
   "id": "56929377",
   "metadata": {},
   "outputs": [
    {
     "name": "stdout",
     "output_type": "stream",
     "text": [
      "1 - odd\n",
      "2 - even\n",
      "3 - odd\n",
      "4 - even\n",
      "5 - odd\n",
      "6 - even\n",
      "7 - odd\n",
      "8 - even\n",
      "9 - odd\n",
      "10 - even\n",
      "11 - odd\n",
      "12 - even\n",
      "13 - odd\n",
      "14 - even\n",
      "15 - odd\n"
     ]
    }
   ],
   "source": [
    "# Write a Python program using for loop that will iterate from 1 to 15. For each iteration, check if the current number is odd\n",
    "# or even, and display the message to the screen as odd or even. \n",
    "\n",
    "for i in range(1,16):\n",
    "    if (i% 2)==0:\n",
    "        print(i,\"- even\")\n",
    "    else :\n",
    "        print(i,\"- odd\")"
   ]
  },
  {
   "cell_type": "code",
   "execution_count": 10,
   "id": "aeff2b98",
   "metadata": {},
   "outputs": [
    {
     "name": "stdout",
     "output_type": "stream",
     "text": [
      "Input the  temperature(F/C at the end) : 30f\n",
      "The temperature in Celsius is -1 degrees.\n"
     ]
    }
   ],
   "source": [
    "# Write a Python program to convert temperatures to and from Celsius Fahrenheit. [Formula: c/5=f-32/9 where c=temperature\n",
    "# in Celsius and f= temperature in Fahrenheit.] \n",
    "\n",
    "import sys\n",
    "\n",
    "\n",
    "temp = input(\"Input the  temperature(F/C at the end) : \")\n",
    "degree = int(temp[:-1])\n",
    "temp_in = temp[-1]\n",
    "temp_convert=None\n",
    "result=None\n",
    "if temp_in.upper() == \"C\":\n",
    "        result = int(round((9 * degree) / 5 + 32))\n",
    "        temp_convert = \"Fahrenheit\"\n",
    "elif temp_in.upper() == \"F\":\n",
    "    result = int(round((degree - 32) * 5 / 9))\n",
    "    temp_convert = \"Celsius\"\n",
    "else:\n",
    "#     print(\"Improper convention.\")\n",
    "    sys.exit(\"Invalid input\")\n",
    "   \n",
    "    \n",
    "print(\"The temperature in\",temp_convert , \"is\", result, \"degrees.\")\n"
   ]
  },
  {
   "cell_type": "code",
   "execution_count": 2,
   "id": "a9ce136e",
   "metadata": {},
   "outputs": [
    {
     "name": "stdout",
     "output_type": "stream",
     "text": [
      "Enter a number to find factorial : 9\n",
      "The factorial is:  362880\n"
     ]
    }
   ],
   "source": [
    "# Write a Python function to calculate the factorial of a number (a nonnegative integer). \n",
    "# The function accepts the number as an argument. \n",
    "\n",
    "def factorial(x):\n",
    "    if x == 1:\n",
    "        return 1\n",
    "    else:\n",
    "        return (x * factorial(x-1))\n",
    "\n",
    "n=int(input(\"Enter a number to find factorial : \"))\n",
    "\n",
    "print(\"The factorial is: \",factorial(n))\n",
    "\n"
   ]
  },
  {
   "cell_type": "code",
   "execution_count": 10,
   "id": "c641f5c3",
   "metadata": {},
   "outputs": [
    {
     "name": "stdout",
     "output_type": "stream",
     "text": [
      "Enter the side of the equilateral triangle: 5\n",
      "10.825\n"
     ]
    }
   ],
   "source": [
    "# Code to find the area of an equilateral triangle. Output should be as displayed\n",
    "\n",
    "import math\n",
    "side = float(input(\"Enter the side of the equilateral triangle: \"))\n",
    "area = ((math.sqrt(3))/4)*pow(side,2)\n",
    "print(round(area,3))\n"
   ]
  },
  {
   "cell_type": "code",
   "execution_count": 14,
   "id": "ea18764b",
   "metadata": {},
   "outputs": [
    {
     "name": "stdout",
     "output_type": "stream",
     "text": [
      "Enter length: 2\n",
      "Enter width: 2\n",
      "Area is :  4.0\n",
      "Perimeter is:  8.0\n"
     ]
    }
   ],
   "source": [
    "# Write a program to find the area and perimeter of a rectangle using functions\n",
    "\n",
    "def area(a,b):\n",
    "    return (a*b)\n",
    "def perimeter(a,b):\n",
    "    return (2*(a+b))\n",
    "l=float(input(\"Enter length: \"))\n",
    "b= float(input(\"Enter width: \"))\n",
    "print(\"Area is : \", area(l,b))\n",
    "print(\"Perimeter is: \", perimeter(l,b))\n",
    "\n"
   ]
  },
  {
   "cell_type": "code",
   "execution_count": 15,
   "id": "e2975fbf",
   "metadata": {},
   "outputs": [
    {
     "name": "stdout",
     "output_type": "stream",
     "text": [
      "Enter the limit: 3\n",
      "Fibonacci sequence:\n",
      "0\n",
      "1\n",
      "1\n"
     ]
    }
   ],
   "source": [
    "# Write a program to print the fibonacci series till a specified number\n",
    "\n",
    "n=int(input(\"Enter the limit: \"))\n",
    "a=0\n",
    "b=1\n",
    "i=0\n",
    "if n<=0:\n",
    "  print(\"Enter positive number \")\n",
    "elif n==1:\n",
    "  print(a)\n",
    "else:\n",
    "  print(\"Fibonacci sequence:\")\n",
    "  while i < n:\n",
    "       print(a)\n",
    "       next = a+ b\n",
    "\n",
    "       a = b\n",
    "       b = next\n",
    "       i += 1"
   ]
  },
  {
   "cell_type": "code",
   "execution_count": 3,
   "id": "95a1ca31",
   "metadata": {},
   "outputs": [
    {
     "name": "stdout",
     "output_type": "stream",
     "text": [
      "Enter three numbers followed by  : -100 90 100\n",
      "First number : -100\n",
      "Second number : 90\n",
      "Third number : 100\n",
      "-100  is smallest\n"
     ]
    }
   ],
   "source": [
    "# code to find the minimum of 3 number using conditional statements. Output should be as displayed\n",
    "\n",
    "a,b,c = input(\"Enter three numbers followed by  : \").split()\n",
    "\n",
    "print(\"First number :\",a)\n",
    "print(\"Second number :\",b)\n",
    "print(\"Third number :\",c)\n",
    "if a==b==c:\n",
    "     print(\"Entered numbers are equal!!!\")\n",
    "elif a<b and a<c:\n",
    "     print(a,\" is smallest\")\n",
    "elif b<a and b<c:\n",
    "    print(b,\" is smallest\")\n",
    "else:\n",
    "    print(c,\" is smallest\")"
   ]
  },
  {
   "cell_type": "code",
   "execution_count": 4,
   "id": "8d300e75",
   "metadata": {},
   "outputs": [
    {
     "name": "stdout",
     "output_type": "stream",
     "text": [
      "Enter the number of rows: 5\n",
      "    * \n",
      "   * * \n",
      "  * * * \n",
      " * * * * \n",
      "* * * * * \n"
     ]
    }
   ],
   "source": [
    "# Write a program to print star pyramind. The number of rows should be taken as input from the user\n",
    "\n",
    "rows = int(input(\"Enter the number of rows: \"));\n",
    "for i in range(0, rows):\n",
    "    for j in range(0, rows-i-1):\n",
    "        print(end=\" \")\n",
    "    for j in  range(0, i+1):\n",
    "        print(\"*\", end=\" \")\n",
    "    print()"
   ]
  },
  {
   "cell_type": "code",
   "execution_count": 5,
   "id": "5dd11c34",
   "metadata": {},
   "outputs": [
    {
     "name": "stdout",
     "output_type": "stream",
     "text": [
      "Enter time in hours: 24\n",
      "24  Hour is equal to 86400  Seconds\n"
     ]
    }
   ],
   "source": [
    "# code to convert hour into seconds. Output should be as displayed\n",
    "\n",
    "def to_seconds(t):\n",
    "     return (t*3600)\n",
    "time_in_hours = int(input(\"Enter time in hours: \"))\n",
    "print(time_in_hours ,\" Hour is equal to\" ,to_seconds(time_in_hours) ,\" Seconds\")"
   ]
  },
  {
   "cell_type": "code",
   "execution_count": 6,
   "id": "cbbbb5df",
   "metadata": {},
   "outputs": [
    {
     "name": "stdout",
     "output_type": "stream",
     "text": [
      "Enter a number to find the multiplication table: 10\n",
      "1 x 10 = 10\n",
      "2 x 10 = 20\n",
      "3 x 10 = 30\n",
      "4 x 10 = 40\n",
      "5 x 10 = 50\n",
      "6 x 10 = 60\n",
      "7 x 10 = 70\n",
      "8 x 10 = 80\n",
      "9 x 10 = 90\n",
      "10 x 10 = 100\n"
     ]
    }
   ],
   "source": [
    "# Write a program to print multiplication table(upto 10)\n",
    "\n",
    "num = int(input(\"Enter a number to find the multiplication table: \"))\n",
    "for i in range(1, 11):\n",
    "    print(i, 'x', num,  '=', num*i)"
   ]
  },
  {
   "cell_type": "code",
   "execution_count": 7,
   "id": "f196ffb4",
   "metadata": {},
   "outputs": [
    {
     "name": "stdout",
     "output_type": "stream",
     "text": [
      "Enter your 5 favorite food items: \n",
      "Pizza\n",
      "Burger\n",
      "Salad\n",
      "Pasta\n",
      "Sandwich\n",
      "I like  Pizza\n",
      "I like  Burger\n",
      "I like  Salad\n",
      "I like  Pasta\n",
      "I like  Sandwich\n"
     ]
    }
   ],
   "source": [
    "# Write a program to take your 5 favorite food as list and print each as 'I like Biriyani'\n",
    "\n",
    "print('Enter your 5 favorite food items: ')\n",
    "items=[]\n",
    "for i in range(0,5):\n",
    "    food=str(input())\n",
    "    items.append(food)\n",
    "for j in range(0,5):\n",
    "    print('I like ',items[j])"
   ]
  },
  {
   "cell_type": "code",
   "execution_count": null,
   "id": "e1db3cdf",
   "metadata": {},
   "outputs": [],
   "source": []
  }
 ],
 "metadata": {
  "kernelspec": {
   "display_name": "Python 3 (ipykernel)",
   "language": "python",
   "name": "python3"
  },
  "language_info": {
   "codemirror_mode": {
    "name": "ipython",
    "version": 3
   },
   "file_extension": ".py",
   "mimetype": "text/x-python",
   "name": "python",
   "nbconvert_exporter": "python",
   "pygments_lexer": "ipython3",
   "version": "3.9.12"
  }
 },
 "nbformat": 4,
 "nbformat_minor": 5
}
